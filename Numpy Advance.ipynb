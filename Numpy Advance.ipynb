{
 "cells": [
  {
   "cell_type": "markdown",
   "id": "b8ccdc0e",
   "metadata": {},
   "source": [
    "## np.sort\n",
    "\n",
    "return a sorted copy of an array"
   ]
  },
  {
   "cell_type": "code",
   "execution_count": 1,
   "id": "e9888c99",
   "metadata": {},
   "outputs": [
    {
     "data": {
      "text/plain": [
       "array([67, 10, 36,  5, 73, 73,  5, 24, 66, 87, 61, 52, 83, 59, 50])"
      ]
     },
     "execution_count": 1,
     "metadata": {},
     "output_type": "execute_result"
    }
   ],
   "source": [
    "import numpy as np\n",
    "a = np.random.randint(1,100,15)\n",
    "a"
   ]
  },
  {
   "cell_type": "code",
   "execution_count": 2,
   "id": "c7414841",
   "metadata": {},
   "outputs": [
    {
     "data": {
      "text/plain": [
       "array([[ 7, 30, 67, 42],\n",
       "       [69, 59, 78, 81],\n",
       "       [22, 81, 39, 39],\n",
       "       [54,  4, 80, 21],\n",
       "       [26, 74, 36, 64],\n",
       "       [31, 55, 21, 49]])"
      ]
     },
     "execution_count": 2,
     "metadata": {},
     "output_type": "execute_result"
    }
   ],
   "source": [
    "b = np.random.randint(1,100,24).reshape(6,4)\n",
    "b"
   ]
  },
  {
   "cell_type": "code",
   "execution_count": 3,
   "id": "e5ac3617",
   "metadata": {},
   "outputs": [
    {
     "data": {
      "text/plain": [
       "array([ 5,  5, 10, 24, 36, 50, 52, 59, 61, 66, 67, 73, 73, 83, 87])"
      ]
     },
     "execution_count": 3,
     "metadata": {},
     "output_type": "execute_result"
    }
   ],
   "source": [
    "np.sort(a)    # for descending order use this[::-1]"
   ]
  },
  {
   "cell_type": "code",
   "execution_count": 4,
   "id": "bc3ce418",
   "metadata": {},
   "outputs": [
    {
     "data": {
      "text/plain": [
       "array([[ 7,  4, 21, 21],\n",
       "       [22, 30, 36, 39],\n",
       "       [26, 55, 39, 42],\n",
       "       [31, 59, 67, 49],\n",
       "       [54, 74, 78, 64],\n",
       "       [69, 81, 80, 81]])"
      ]
     },
     "execution_count": 4,
     "metadata": {},
     "output_type": "execute_result"
    }
   ],
   "source": [
    "np.sort(b,axis=0)  # axis=0 is used for columne sort"
   ]
  },
  {
   "cell_type": "markdown",
   "id": "4a3d3152",
   "metadata": {},
   "source": [
    "## np.append\n",
    "\n",
    "The numpy.append()appends values along the mentioned axis at the end of the array"
   ]
  },
  {
   "cell_type": "code",
   "execution_count": 5,
   "id": "b2dfefc4",
   "metadata": {},
   "outputs": [
    {
     "data": {
      "text/plain": [
       "array([ 67,  10,  36,   5,  73,  73,   5,  24,  66,  87,  61,  52,  83,\n",
       "        59,  50, 200])"
      ]
     },
     "execution_count": 5,
     "metadata": {},
     "output_type": "execute_result"
    }
   ],
   "source": [
    " np.append(a,200)"
   ]
  },
  {
   "cell_type": "code",
   "execution_count": 6,
   "id": "e1d70b71",
   "metadata": {},
   "outputs": [
    {
     "data": {
      "text/plain": [
       "array([[ 7, 30, 67, 42],\n",
       "       [69, 59, 78, 81],\n",
       "       [22, 81, 39, 39],\n",
       "       [54,  4, 80, 21],\n",
       "       [26, 74, 36, 64],\n",
       "       [31, 55, 21, 49]])"
      ]
     },
     "execution_count": 6,
     "metadata": {},
     "output_type": "execute_result"
    }
   ],
   "source": [
    "b"
   ]
  },
  {
   "cell_type": "code",
   "execution_count": 7,
   "id": "79e8c707",
   "metadata": {},
   "outputs": [
    {
     "data": {
      "text/plain": [
       "array([[ 7., 30., 67., 42.,  1.],\n",
       "       [69., 59., 78., 81.,  1.],\n",
       "       [22., 81., 39., 39.,  1.],\n",
       "       [54.,  4., 80., 21.,  1.],\n",
       "       [26., 74., 36., 64.,  1.],\n",
       "       [31., 55., 21., 49.,  1.]])"
      ]
     },
     "execution_count": 7,
     "metadata": {},
     "output_type": "execute_result"
    }
   ],
   "source": [
    "np.append(b,np.ones((b.shape[0],1)),axis=1)"
   ]
  },
  {
   "cell_type": "markdown",
   "id": "235eb5b2",
   "metadata": {},
   "source": [
    "## np.concatenate\n",
    "\n",
    "numpy.concatenate()function concatenate a sequence of array along an existing axis."
   ]
  },
  {
   "cell_type": "code",
   "execution_count": 8,
   "id": "5c898480",
   "metadata": {},
   "outputs": [
    {
     "name": "stdout",
     "output_type": "stream",
     "text": [
      "[[0 1 2]\n",
      " [3 4 5]]\n",
      "[[ 6  7  8]\n",
      " [ 9 10 11]]\n"
     ]
    }
   ],
   "source": [
    "c = np.arange(6).reshape(2,3)\n",
    "d = np.arange(6,12).reshape(2,3)\n",
    "\n",
    "print(c)\n",
    "print(d)"
   ]
  },
  {
   "cell_type": "code",
   "execution_count": 9,
   "id": "0bcf95fa",
   "metadata": {},
   "outputs": [
    {
     "data": {
      "text/plain": [
       "array([[ 0,  1,  2],\n",
       "       [ 3,  4,  5],\n",
       "       [ 6,  7,  8],\n",
       "       [ 9, 10, 11]])"
      ]
     },
     "execution_count": 9,
     "metadata": {},
     "output_type": "execute_result"
    }
   ],
   "source": [
    "np.concatenate((c,d),axis=0)"
   ]
  },
  {
   "cell_type": "markdown",
   "id": "875e43b0",
   "metadata": {},
   "source": [
    "## np.unique \n",
    "\n",
    "With the help of np.unique() method, we can get the unique values from an array given as parameter in np.unique() method."
   ]
  },
  {
   "cell_type": "code",
   "execution_count": 10,
   "id": "ddfa626c",
   "metadata": {},
   "outputs": [],
   "source": [
    "e = np.array([1,1,1,2,3,3,2,4,5,6,4,3,5,6,7,1])"
   ]
  },
  {
   "cell_type": "code",
   "execution_count": 11,
   "id": "c993cda4",
   "metadata": {},
   "outputs": [
    {
     "data": {
      "text/plain": [
       "array([1, 2, 3, 4, 5, 6, 7])"
      ]
     },
     "execution_count": 11,
     "metadata": {},
     "output_type": "execute_result"
    }
   ],
   "source": [
    "np.unique(e)"
   ]
  },
  {
   "cell_type": "markdown",
   "id": "b8c1c87e",
   "metadata": {},
   "source": [
    "## np.expand_dims\n",
    "\n",
    "With the help of NumPy.expend_dims() method, we can get the expanded dimensions of an array"
   ]
  },
  {
   "cell_type": "code",
   "execution_count": 12,
   "id": "f8589372",
   "metadata": {},
   "outputs": [
    {
     "name": "stdout",
     "output_type": "stream",
     "text": [
      "[67 10 36  5 73 73  5 24 66 87 61 52 83 59 50]\n"
     ]
    },
    {
     "data": {
      "text/plain": [
       "(15,)"
      ]
     },
     "execution_count": 12,
     "metadata": {},
     "output_type": "execute_result"
    }
   ],
   "source": [
    "print(a)\n",
    "a.shape"
   ]
  },
  {
   "cell_type": "code",
   "execution_count": 13,
   "id": "de1828c2",
   "metadata": {},
   "outputs": [
    {
     "name": "stdout",
     "output_type": "stream",
     "text": [
      "[[67 10 36  5 73 73  5 24 66 87 61 52 83 59 50]]\n"
     ]
    },
    {
     "data": {
      "text/plain": [
       "(1, 15)"
      ]
     },
     "execution_count": 13,
     "metadata": {},
     "output_type": "execute_result"
    }
   ],
   "source": [
    "print(np.expand_dims(a,axis=0))\n",
    "np.expand_dims(a,axis=0).shape"
   ]
  },
  {
   "cell_type": "markdown",
   "id": "35b220a6",
   "metadata": {},
   "source": [
    "## np.where\n",
    "\n",
    "The numpy.where() function returns the indices of elements in an input array where the give condition is satisfied"
   ]
  },
  {
   "cell_type": "code",
   "execution_count": 14,
   "id": "8311fc16",
   "metadata": {},
   "outputs": [
    {
     "data": {
      "text/plain": [
       "array([67, 10, 36,  5, 73, 73,  5, 24, 66, 87, 61, 52, 83, 59, 50])"
      ]
     },
     "execution_count": 14,
     "metadata": {},
     "output_type": "execute_result"
    }
   ],
   "source": [
    "a"
   ]
  },
  {
   "cell_type": "code",
   "execution_count": 15,
   "id": "9a0a03dd",
   "metadata": {},
   "outputs": [
    {
     "data": {
      "text/plain": [
       "(array([ 0,  4,  5,  8,  9, 10, 11, 12, 13], dtype=int64),)"
      ]
     },
     "execution_count": 15,
     "metadata": {},
     "output_type": "execute_result"
    }
   ],
   "source": [
    "# find all indices with value greater than 50\n",
    "np.where(a>50)"
   ]
  },
  {
   "cell_type": "code",
   "execution_count": 16,
   "id": "ee130f71",
   "metadata": {},
   "outputs": [
    {
     "data": {
      "text/plain": [
       "array([ 0, 10, 36,  5,  0,  0,  5, 24,  0,  0,  0,  0,  0,  0, 50])"
      ]
     },
     "execution_count": 16,
     "metadata": {},
     "output_type": "execute_result"
    }
   ],
   "source": [
    "# replace all values > 50 with 0\n",
    "np.where(a>50,0,a)"
   ]
  },
  {
   "cell_type": "code",
   "execution_count": 17,
   "id": "4ef41d86",
   "metadata": {},
   "outputs": [
    {
     "data": {
      "text/plain": [
       "array([67,  0,  0,  5, 73, 73,  5,  0,  0, 87, 61,  0, 83, 59,  0])"
      ]
     },
     "execution_count": 17,
     "metadata": {},
     "output_type": "execute_result"
    }
   ],
   "source": [
    "np.where(a%2==0,0,a)"
   ]
  },
  {
   "cell_type": "markdown",
   "id": "40e5136d",
   "metadata": {},
   "source": [
    "# np.argmax\n",
    "\n",
    "The numpy.argmax() function return indices of the max element of the array in a paticular axis"
   ]
  },
  {
   "cell_type": "code",
   "execution_count": 18,
   "id": "f47646fc",
   "metadata": {},
   "outputs": [
    {
     "data": {
      "text/plain": [
       "array([67, 10, 36,  5, 73, 73,  5, 24, 66, 87, 61, 52, 83, 59, 50])"
      ]
     },
     "execution_count": 18,
     "metadata": {},
     "output_type": "execute_result"
    }
   ],
   "source": [
    "a"
   ]
  },
  {
   "cell_type": "code",
   "execution_count": 19,
   "id": "2cd7fa9a",
   "metadata": {},
   "outputs": [
    {
     "data": {
      "text/plain": [
       "9"
      ]
     },
     "execution_count": 19,
     "metadata": {},
     "output_type": "execute_result"
    }
   ],
   "source": [
    "np.argmax(a)"
   ]
  },
  {
   "cell_type": "code",
   "execution_count": 20,
   "id": "bb7c12d5",
   "metadata": {},
   "outputs": [
    {
     "data": {
      "text/plain": [
       "array([[ 7, 30, 67, 42],\n",
       "       [69, 59, 78, 81],\n",
       "       [22, 81, 39, 39],\n",
       "       [54,  4, 80, 21],\n",
       "       [26, 74, 36, 64],\n",
       "       [31, 55, 21, 49]])"
      ]
     },
     "execution_count": 20,
     "metadata": {},
     "output_type": "execute_result"
    }
   ],
   "source": [
    "b"
   ]
  },
  {
   "cell_type": "code",
   "execution_count": 21,
   "id": "6bbb1b1c",
   "metadata": {},
   "outputs": [
    {
     "data": {
      "text/plain": [
       "array([1, 2, 3, 1], dtype=int64)"
      ]
     },
     "execution_count": 21,
     "metadata": {},
     "output_type": "execute_result"
    }
   ],
   "source": [
    "np.argmax(b,axis=0)"
   ]
  },
  {
   "cell_type": "code",
   "execution_count": 22,
   "id": "510daf14",
   "metadata": {},
   "outputs": [
    {
     "data": {
      "text/plain": [
       "3"
      ]
     },
     "execution_count": 22,
     "metadata": {},
     "output_type": "execute_result"
    }
   ],
   "source": [
    "# np.argmin\n",
    "np.argmin(a)"
   ]
  },
  {
   "cell_type": "code",
   "execution_count": 23,
   "id": "f3971ab4",
   "metadata": {},
   "outputs": [
    {
     "data": {
      "text/plain": [
       "array([0, 3, 5, 3], dtype=int64)"
      ]
     },
     "execution_count": 23,
     "metadata": {},
     "output_type": "execute_result"
    }
   ],
   "source": [
    "np.argmin(b,axis=0)"
   ]
  },
  {
   "cell_type": "markdown",
   "id": "fa5ab765",
   "metadata": {},
   "source": [
    "## np.cumsum\n",
    "\n",
    "numpy.cumsum() function is used when we want to compute the cumulative sum of array elements over a give axis."
   ]
  },
  {
   "cell_type": "code",
   "execution_count": 24,
   "id": "500c233c",
   "metadata": {},
   "outputs": [
    {
     "data": {
      "text/plain": [
       "array([67, 10, 36,  5, 73, 73,  5, 24, 66, 87, 61, 52, 83, 59, 50])"
      ]
     },
     "execution_count": 24,
     "metadata": {},
     "output_type": "execute_result"
    }
   ],
   "source": [
    "a"
   ]
  },
  {
   "cell_type": "code",
   "execution_count": 25,
   "id": "f39dc24c",
   "metadata": {},
   "outputs": [
    {
     "data": {
      "text/plain": [
       "array([ 67,  77, 113, 118, 191, 264, 269, 293, 359, 446, 507, 559, 642,\n",
       "       701, 751])"
      ]
     },
     "execution_count": 25,
     "metadata": {},
     "output_type": "execute_result"
    }
   ],
   "source": [
    "np.cumsum(a)"
   ]
  },
  {
   "cell_type": "code",
   "execution_count": 26,
   "id": "33b1a3be",
   "metadata": {},
   "outputs": [
    {
     "data": {
      "text/plain": [
       "array([[ 7, 30, 67, 42],\n",
       "       [69, 59, 78, 81],\n",
       "       [22, 81, 39, 39],\n",
       "       [54,  4, 80, 21],\n",
       "       [26, 74, 36, 64],\n",
       "       [31, 55, 21, 49]])"
      ]
     },
     "execution_count": 26,
     "metadata": {},
     "output_type": "execute_result"
    }
   ],
   "source": [
    "b"
   ]
  },
  {
   "cell_type": "code",
   "execution_count": 27,
   "id": "6b075b1e",
   "metadata": {},
   "outputs": [
    {
     "data": {
      "text/plain": [
       "array([[  7,  30,  67,  42],\n",
       "       [ 76,  89, 145, 123],\n",
       "       [ 98, 170, 184, 162],\n",
       "       [152, 174, 264, 183],\n",
       "       [178, 248, 300, 247],\n",
       "       [209, 303, 321, 296]])"
      ]
     },
     "execution_count": 27,
     "metadata": {},
     "output_type": "execute_result"
    }
   ],
   "source": [
    "np.cumsum(b,axis=0)"
   ]
  },
  {
   "cell_type": "code",
   "execution_count": 28,
   "id": "bccb3cce",
   "metadata": {},
   "outputs": [
    {
     "data": {
      "text/plain": [
       "array([         67,         670,       24120,      120600,     8803800,\n",
       "         642677400, -1081580296,  -188123328,   468762240,  2127609216,\n",
       "         935143296,  1382811136, -1190792704, -1537292800,   444771328])"
      ]
     },
     "execution_count": 28,
     "metadata": {},
     "output_type": "execute_result"
    }
   ],
   "source": [
    "np.cumprod(a) #use for product"
   ]
  },
  {
   "cell_type": "markdown",
   "id": "b08b39da",
   "metadata": {},
   "source": [
    "## np.percentile\n",
    "\n",
    "numpy.percentile() function used to compute the nth percentile of the given data(array elements) along the specified axis."
   ]
  },
  {
   "cell_type": "code",
   "execution_count": 29,
   "id": "1a254e63",
   "metadata": {},
   "outputs": [
    {
     "data": {
      "text/plain": [
       "array([67, 10, 36,  5, 73, 73,  5, 24, 66, 87, 61, 52, 83, 59, 50])"
      ]
     },
     "execution_count": 29,
     "metadata": {},
     "output_type": "execute_result"
    }
   ],
   "source": [
    "a"
   ]
  },
  {
   "cell_type": "code",
   "execution_count": 30,
   "id": "9d90f9bc",
   "metadata": {},
   "outputs": [
    {
     "data": {
      "text/plain": [
       "87.0"
      ]
     },
     "execution_count": 30,
     "metadata": {},
     "output_type": "execute_result"
    }
   ],
   "source": [
    "np.percentile(a,100) # percentage of maximun number"
   ]
  },
  {
   "cell_type": "code",
   "execution_count": 31,
   "id": "afc80eef",
   "metadata": {},
   "outputs": [
    {
     "data": {
      "text/plain": [
       "5.0"
      ]
     },
     "execution_count": 31,
     "metadata": {},
     "output_type": "execute_result"
    }
   ],
   "source": [
    "np.percentile(a,0) # percentage of minimum number"
   ]
  },
  {
   "cell_type": "code",
   "execution_count": 32,
   "id": "8975da06",
   "metadata": {},
   "outputs": [
    {
     "data": {
      "text/plain": [
       "59.0"
      ]
     },
     "execution_count": 32,
     "metadata": {},
     "output_type": "execute_result"
    }
   ],
   "source": [
    "np.percentile(a,50) # percentage of middle term"
   ]
  },
  {
   "cell_type": "code",
   "execution_count": 33,
   "id": "df800949",
   "metadata": {},
   "outputs": [
    {
     "data": {
      "text/plain": [
       "59.0"
      ]
     },
     "execution_count": 33,
     "metadata": {},
     "output_type": "execute_result"
    }
   ],
   "source": [
    "np.median(a)"
   ]
  },
  {
   "cell_type": "markdown",
   "id": "587450ef",
   "metadata": {},
   "source": [
    "## np.histogram\n",
    "\n",
    "NumPy has a built-in numpy.histogram() function which represents the frequency of data distribution in the graphical form "
   ]
  },
  {
   "cell_type": "code",
   "execution_count": 36,
   "id": "31d2b3bd",
   "metadata": {},
   "outputs": [
    {
     "data": {
      "text/plain": [
       "array([67, 10, 36,  5, 73, 73,  5, 24, 66, 87, 61, 52, 83, 59, 50])"
      ]
     },
     "execution_count": 36,
     "metadata": {},
     "output_type": "execute_result"
    }
   ],
   "source": [
    "a"
   ]
  },
  {
   "cell_type": "code",
   "execution_count": 37,
   "id": "430519e6",
   "metadata": {},
   "outputs": [
    {
     "data": {
      "text/plain": [
       "(array([2, 1, 1, 1, 0, 3, 3, 2, 2, 0], dtype=int64),\n",
       " array([  0,  10,  20,  30,  40,  50,  60,  70,  80,  90, 100]))"
      ]
     },
     "execution_count": 37,
     "metadata": {},
     "output_type": "execute_result"
    }
   ],
   "source": [
    "np.histogram(a,bins=[0,10,20,30,40,50,60,70,80,90,100])"
   ]
  },
  {
   "cell_type": "code",
   "execution_count": 38,
   "id": "c6991cf8",
   "metadata": {},
   "outputs": [
    {
     "data": {
      "text/plain": [
       "(array([ 5, 10], dtype=int64), array([  0,  50, 100]))"
      ]
     },
     "execution_count": 38,
     "metadata": {},
     "output_type": "execute_result"
    }
   ],
   "source": [
    "np.histogram(a,bins=[0,50,100])"
   ]
  },
  {
   "cell_type": "markdown",
   "id": "6d3bcf66",
   "metadata": {},
   "source": [
    "## np.corrcoef\n",
    "\n",
    "Return Pearson product-moment correlation coefficient"
   ]
  },
  {
   "cell_type": "code",
   "execution_count": 39,
   "id": "5aefa77e",
   "metadata": {},
   "outputs": [],
   "source": [
    "salary = np.array([20000,40000,25000,35000,60000])\n",
    "experience = np.array([1,3,2,4,2])"
   ]
  },
  {
   "cell_type": "code",
   "execution_count": 40,
   "id": "5ba96606",
   "metadata": {},
   "outputs": [
    {
     "data": {
      "text/plain": [
       "array([[1.        , 0.25344572],\n",
       "       [0.25344572, 1.        ]])"
      ]
     },
     "execution_count": 40,
     "metadata": {},
     "output_type": "execute_result"
    }
   ],
   "source": [
    "np.corrcoef(salary,experience)"
   ]
  },
  {
   "cell_type": "markdown",
   "id": "967b46d8",
   "metadata": {},
   "source": [
    "## np.isin\n",
    "\n",
    "With the help of numpy.isin() method, we can see that one array having values are checked in a different numpy array having\n",
    "different elements with different sizes."
   ]
  },
  {
   "cell_type": "code",
   "execution_count": 41,
   "id": "41125dd6",
   "metadata": {},
   "outputs": [
    {
     "data": {
      "text/plain": [
       "array([67, 10, 36,  5, 73, 73,  5, 24, 66, 87, 61, 52, 83, 59, 50])"
      ]
     },
     "execution_count": 41,
     "metadata": {},
     "output_type": "execute_result"
    }
   ],
   "source": [
    "a"
   ]
  },
  {
   "cell_type": "code",
   "execution_count": 42,
   "id": "c100f2d1",
   "metadata": {},
   "outputs": [
    {
     "data": {
      "text/plain": [
       "array([False,  True, False, False, False, False, False, False, False,\n",
       "       False, False, False, False, False,  True])"
      ]
     },
     "execution_count": 42,
     "metadata": {},
     "output_type": "execute_result"
    }
   ],
   "source": [
    "items=[10,20,30,40,50,60,70,80,90,100]\n",
    "\n",
    "np.isin(a,items)"
   ]
  },
  {
   "cell_type": "markdown",
   "id": "37a50f09",
   "metadata": {},
   "source": [
    "## np.flip\n",
    "\n",
    "The numpy.flip() function reverses the order of array elements along the specified axis, preserving the shape of the array."
   ]
  },
  {
   "cell_type": "code",
   "execution_count": 43,
   "id": "f7393799",
   "metadata": {},
   "outputs": [
    {
     "data": {
      "text/plain": [
       "array([67, 10, 36,  5, 73, 73,  5, 24, 66, 87, 61, 52, 83, 59, 50])"
      ]
     },
     "execution_count": 43,
     "metadata": {},
     "output_type": "execute_result"
    }
   ],
   "source": [
    "a"
   ]
  },
  {
   "cell_type": "code",
   "execution_count": 44,
   "id": "4f7125c3",
   "metadata": {},
   "outputs": [
    {
     "data": {
      "text/plain": [
       "array([50, 59, 83, 52, 61, 87, 66, 24,  5, 73, 73,  5, 36, 10, 67])"
      ]
     },
     "execution_count": 44,
     "metadata": {},
     "output_type": "execute_result"
    }
   ],
   "source": [
    "np.flip(a)"
   ]
  },
  {
   "cell_type": "code",
   "execution_count": 45,
   "id": "70ab7af4",
   "metadata": {},
   "outputs": [
    {
     "data": {
      "text/plain": [
       "array([[ 7, 30, 67, 42],\n",
       "       [69, 59, 78, 81],\n",
       "       [22, 81, 39, 39],\n",
       "       [54,  4, 80, 21],\n",
       "       [26, 74, 36, 64],\n",
       "       [31, 55, 21, 49]])"
      ]
     },
     "execution_count": 45,
     "metadata": {},
     "output_type": "execute_result"
    }
   ],
   "source": [
    "b"
   ]
  },
  {
   "cell_type": "code",
   "execution_count": 47,
   "id": "e1d903eb",
   "metadata": {},
   "outputs": [
    {
     "data": {
      "text/plain": [
       "array([[31, 55, 21, 49],\n",
       "       [26, 74, 36, 64],\n",
       "       [54,  4, 80, 21],\n",
       "       [22, 81, 39, 39],\n",
       "       [69, 59, 78, 81],\n",
       "       [ 7, 30, 67, 42]])"
      ]
     },
     "execution_count": 47,
     "metadata": {},
     "output_type": "execute_result"
    }
   ],
   "source": [
    "np.flip(b,axis=0)"
   ]
  },
  {
   "cell_type": "markdown",
   "id": "7a1d0b6e",
   "metadata": {},
   "source": [
    "## np.put\n",
    "\n",
    "The numpy.put() function replace specific elements of an array with given values of p_array. Array indexed works on flattened\n",
    "array."
   ]
  },
  {
   "cell_type": "code",
   "execution_count": 51,
   "id": "c6eb3c7f",
   "metadata": {},
   "outputs": [
    {
     "data": {
      "text/plain": [
       "array([70, 15, 36,  5, 73, 73,  5, 24, 66, 87, 61, 52, 83, 59, 50])"
      ]
     },
     "execution_count": 51,
     "metadata": {},
     "output_type": "execute_result"
    }
   ],
   "source": [
    "a"
   ]
  },
  {
   "cell_type": "code",
   "execution_count": 50,
   "id": "03af33a8",
   "metadata": {},
   "outputs": [],
   "source": [
    "np.put(a,[0,1],[70,15])"
   ]
  },
  {
   "cell_type": "markdown",
   "id": "16fd495d",
   "metadata": {},
   "source": [
    "## np.delete\n",
    "\n",
    "The numpy.delete() function return a new array with the deletion of sub-array along with the mentioned axis"
   ]
  },
  {
   "cell_type": "code",
   "execution_count": 52,
   "id": "07395858",
   "metadata": {},
   "outputs": [
    {
     "data": {
      "text/plain": [
       "array([70, 15, 36,  5, 73, 73,  5, 24, 66, 87, 61, 52, 83, 59, 50])"
      ]
     },
     "execution_count": 52,
     "metadata": {},
     "output_type": "execute_result"
    }
   ],
   "source": [
    "a"
   ]
  },
  {
   "cell_type": "code",
   "execution_count": 53,
   "id": "de7235d7",
   "metadata": {},
   "outputs": [
    {
     "data": {
      "text/plain": [
       "array([15, 36,  5, 73, 73,  5, 24, 66, 87, 61, 52, 83, 59, 50])"
      ]
     },
     "execution_count": 53,
     "metadata": {},
     "output_type": "execute_result"
    }
   ],
   "source": [
    "np.delete(a,0)"
   ]
  },
  {
   "cell_type": "code",
   "execution_count": 55,
   "id": "0d224bf3",
   "metadata": {},
   "outputs": [
    {
     "data": {
      "text/plain": [
       "array([15,  5, 73, 73, 24, 66, 87, 61, 52, 83, 59, 50])"
      ]
     },
     "execution_count": 55,
     "metadata": {},
     "output_type": "execute_result"
    }
   ],
   "source": [
    "np.delete(a,[0,2,6])"
   ]
  },
  {
   "cell_type": "markdown",
   "id": "e4fbf477",
   "metadata": {},
   "source": [
    "## Set functions\n",
    "\n",
    "1.np.union1d\n",
    "\n",
    "2.np.intersect1d\n",
    "\n",
    "3.np.setdiff1d\n",
    "\n",
    "4.np.setxor1d\n",
    "\n",
    "5.np.in1d"
   ]
  },
  {
   "cell_type": "code",
   "execution_count": 56,
   "id": "45ed65ac",
   "metadata": {},
   "outputs": [
    {
     "data": {
      "text/plain": [
       "array([1, 2, 3, 4, 5, 6, 7])"
      ]
     },
     "execution_count": 56,
     "metadata": {},
     "output_type": "execute_result"
    }
   ],
   "source": [
    "m = np.array([1,2,3,4,5])\n",
    "n = np.array([3,4,5,6,7])\n",
    "\n",
    "np.union1d(m,n)"
   ]
  },
  {
   "cell_type": "code",
   "execution_count": 59,
   "id": "c9a745ee",
   "metadata": {},
   "outputs": [
    {
     "data": {
      "text/plain": [
       "array([3, 4, 5])"
      ]
     },
     "execution_count": 59,
     "metadata": {},
     "output_type": "execute_result"
    }
   ],
   "source": [
    "np.intersect1d(m,n)"
   ]
  },
  {
   "cell_type": "code",
   "execution_count": 60,
   "id": "32f80bbf",
   "metadata": {},
   "outputs": [
    {
     "data": {
      "text/plain": [
       "array([1, 2])"
      ]
     },
     "execution_count": 60,
     "metadata": {},
     "output_type": "execute_result"
    }
   ],
   "source": [
    "np.setdiff1d(m,n)\n"
   ]
  },
  {
   "cell_type": "markdown",
   "id": "2b103795",
   "metadata": {},
   "source": [
    "## np.clip\n",
    "numpy.clip()function is used to clip (limit) the values in an array."
   ]
  },
  {
   "cell_type": "code",
   "execution_count": 61,
   "id": "5d7c4544",
   "metadata": {},
   "outputs": [
    {
     "data": {
      "text/plain": [
       "array([70, 15, 36,  5, 73, 73,  5, 24, 66, 87, 61, 52, 83, 59, 50])"
      ]
     },
     "execution_count": 61,
     "metadata": {},
     "output_type": "execute_result"
    }
   ],
   "source": [
    "a"
   ]
  },
  {
   "cell_type": "code",
   "execution_count": 63,
   "id": "840789d0",
   "metadata": {},
   "outputs": [
    {
     "data": {
      "text/plain": [
       "array([66, 15, 36, 15, 66, 66, 15, 24, 66, 66, 61, 52, 66, 59, 50])"
      ]
     },
     "execution_count": 63,
     "metadata": {},
     "output_type": "execute_result"
    }
   ],
   "source": [
    "np.clip(a,a_min=15,a_max=66)"
   ]
  },
  {
   "cell_type": "code",
   "execution_count": 64,
   "id": "e4e6a9b6",
   "metadata": {},
   "outputs": [],
   "source": [
    "# 17. np.swapaxes"
   ]
  },
  {
   "cell_type": "code",
   "execution_count": 65,
   "id": "f94dc5d1",
   "metadata": {},
   "outputs": [],
   "source": [
    "# 18. np.uniform"
   ]
  },
  {
   "cell_type": "code",
   "execution_count": 66,
   "id": "b18087c8",
   "metadata": {},
   "outputs": [],
   "source": [
    "# 19. np.count_nonzero"
   ]
  },
  {
   "cell_type": "code",
   "execution_count": 67,
   "id": "c6df2a1a",
   "metadata": {},
   "outputs": [],
   "source": [
    "# 21. np.tile"
   ]
  },
  {
   "cell_type": "code",
   "execution_count": 68,
   "id": "8a824ded",
   "metadata": {},
   "outputs": [],
   "source": [
    "# 22. np.repeat"
   ]
  },
  {
   "cell_type": "code",
   "execution_count": 69,
   "id": "da445549",
   "metadata": {},
   "outputs": [],
   "source": [
    "# 25. np.allclose and equals"
   ]
  },
  {
   "cell_type": "code",
   "execution_count": null,
   "id": "1ad060b4",
   "metadata": {},
   "outputs": [],
   "source": []
  }
 ],
 "metadata": {
  "kernelspec": {
   "display_name": "Python 3 (ipykernel)",
   "language": "python",
   "name": "python3"
  },
  "language_info": {
   "codemirror_mode": {
    "name": "ipython",
    "version": 3
   },
   "file_extension": ".py",
   "mimetype": "text/x-python",
   "name": "python",
   "nbconvert_exporter": "python",
   "pygments_lexer": "ipython3",
   "version": "3.9.13"
  }
 },
 "nbformat": 4,
 "nbformat_minor": 5
}
